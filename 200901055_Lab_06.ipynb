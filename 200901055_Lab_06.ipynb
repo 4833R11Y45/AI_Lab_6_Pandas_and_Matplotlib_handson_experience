{
 "cells": [
  {
   "cell_type": "markdown",
   "metadata": {},
   "source": [
    "<h1>Artificial Intelligence Lab 06</h1>\n",
    "<br>\n",
    "<h2><strong>Name: </strong> Abeer Ilyas</h2>\n",
    "<h2><strong>Registration Number: </strong>200901055</h2>\n",
    "<h2><strong>Course: </strong>Artificial Intelligence Lab</h2>\n",
    "<h2><strong>Instructor: </strong>Ma'am Reeda</h2>\n",
    "<h2><strong>Date: </strong>06/04/2023</h2>"
   ]
  },
  {
   "cell_type": "markdown",
   "metadata": {},
   "source": [
    "<h3>Task 1</h3>"
   ]
  },
  {
   "cell_type": "code",
   "execution_count": 1,
   "metadata": {},
   "outputs": [],
   "source": [
    "import pandas as pd"
   ]
  },
  {
   "cell_type": "code",
   "execution_count": 2,
   "metadata": {},
   "outputs": [],
   "source": [
    "#Part 1\n",
    "drinks = pd.read_csv(\"drinks.csv\")"
   ]
  },
  {
   "cell_type": "code",
   "execution_count": 3,
   "metadata": {},
   "outputs": [
    {
     "name": "stdout",
     "output_type": "stream",
     "text": [
      "       country  beer_servings  spirit_servings  wine_servings  \\\n",
      "0  Afghanistan              0                0              0   \n",
      "1      Albania             89              132             54   \n",
      "2      Algeria             25                0             14   \n",
      "3      Andorra            245              138            312   \n",
      "4       Angola            217               57             45   \n",
      "\n",
      "   total_litres_of_pure_alcohol continent  \n",
      "0                           0.0        AS  \n",
      "1                           4.9        EU  \n",
      "2                           0.7        AF  \n",
      "3                          12.4        EU  \n",
      "4                           5.9        AF  \n",
      "       country  beer_servings  spirit_servings  wine_servings  \\\n",
      "188  Venezuela            333              100              3   \n",
      "189    Vietnam            111                2              1   \n",
      "190      Yemen              6                0              0   \n",
      "191     Zambia             32               19              4   \n",
      "192   Zimbabwe             64               18              4   \n",
      "\n",
      "     total_litres_of_pure_alcohol continent  \n",
      "188                           7.7        SA  \n",
      "189                           2.0        AS  \n",
      "190                           0.1        AS  \n",
      "191                           2.5        AF  \n",
      "192                           4.7        AF  \n"
     ]
    }
   ],
   "source": [
    "#Part 2\n",
    "print(drinks.head())\n",
    "print(drinks.tail())"
   ]
  },
  {
   "cell_type": "code",
   "execution_count": 4,
   "metadata": {},
   "outputs": [
    {
     "name": "stdout",
     "output_type": "stream",
     "text": [
      "RangeIndex(start=0, stop=193, step=1)\n",
      "country                          object\n",
      "beer_servings                     int64\n",
      "spirit_servings                   int64\n",
      "wine_servings                     int64\n",
      "total_litres_of_pure_alcohol    float64\n",
      "continent                        object\n",
      "dtype: object\n",
      "(193, 6)\n"
     ]
    }
   ],
   "source": [
    "#Part 3\n",
    "print(drinks.index)\n",
    "print(drinks.dtypes)\n",
    "print(drinks.shape)"
   ]
  },
  {
   "cell_type": "code",
   "execution_count": 5,
   "metadata": {},
   "outputs": [
    {
     "name": "stdout",
     "output_type": "stream",
     "text": [
      "0        0\n",
      "1       89\n",
      "2       25\n",
      "3      245\n",
      "4      217\n",
      "      ... \n",
      "188    333\n",
      "189    111\n",
      "190      6\n",
      "191     32\n",
      "192     64\n",
      "Name: beer_servings, Length: 193, dtype: int64\n"
     ]
    }
   ],
   "source": [
    "#Part 4\n",
    "print(drinks['beer_servings'])"
   ]
  },
  {
   "cell_type": "code",
   "execution_count": 6,
   "metadata": {},
   "outputs": [
    {
     "name": "stdout",
     "output_type": "stream",
     "text": [
      "Mean of Beer Serving data: 106.16062176165804\n"
     ]
    }
   ],
   "source": [
    "#Part 5\n",
    "mean_beer_servings = drinks['beer_servings'].mean()\n",
    "print(f\"Mean of Beer Serving data:\", mean_beer_servings)"
   ]
  },
  {
   "cell_type": "code",
   "execution_count": 7,
   "metadata": {},
   "outputs": [
    {
     "name": "stdout",
     "output_type": "stream",
     "text": [
      "Following is the data of Continent counts: \n",
      "AF    53\n",
      "EU    45\n",
      "AS    44\n",
      "OC    16\n",
      "SA    12\n",
      "Name: continent, dtype: int64\n"
     ]
    }
   ],
   "source": [
    "#Part 6\n",
    "continent_occurrences = drinks['continent'].value_counts()\n",
    "print(\"Following is the data of Continent counts: \")\n",
    "print(continent_occurrences)"
   ]
  },
  {
   "cell_type": "code",
   "execution_count": 8,
   "metadata": {
    "scrolled": true
   },
   "outputs": [
    {
     "name": "stdout",
     "output_type": "stream",
     "text": [
      "Following are the European countries with wine servings greater than 300:\n",
      "      country  beer_servings  spirit_servings  wine_servings  \\\n",
      "3     Andorra            245              138            312   \n",
      "61     France            127              151            370   \n",
      "136  Portugal            194               67            339   \n",
      "\n",
      "     total_litres_of_pure_alcohol continent  \n",
      "3                            12.4        EU  \n",
      "61                           11.8        EU  \n",
      "136                          11.0        EU  \n"
     ]
    }
   ],
   "source": [
    "#Part 7\n",
    "european_wine_drinks = drinks[(drinks['continent'] == 'EU') & (drinks['wine_servings'] > 300)]\n",
    "print(\"Following are the European countries with wine servings greater than 300:\")\n",
    "print(european_wine_drinks)"
   ]
  },
  {
   "cell_type": "markdown",
   "metadata": {},
   "source": [
    "<h3>Task 2</h3>"
   ]
  },
  {
   "cell_type": "code",
   "execution_count": 9,
   "metadata": {},
   "outputs": [],
   "source": [
    "#Part 1\n",
    "ufo = pd.read_csv('ufo.csv')"
   ]
  },
  {
   "cell_type": "code",
   "execution_count": 10,
   "metadata": {},
   "outputs": [
    {
     "name": "stdout",
     "output_type": "stream",
     "text": [
      "Most frequent value in each column:\n",
      "      City Colors Reported Shape Reported State              Time\n",
      "0  Seattle             RED          LIGHT    CA  11/16/1999 19:00\n"
     ]
    }
   ],
   "source": [
    "#Part 2\n",
    "most_frequent = ufo.mode()\n",
    "print(\"Most frequent value in each column:\")\n",
    "print(most_frequent)"
   ]
  },
  {
   "cell_type": "code",
   "execution_count": 11,
   "metadata": {},
   "outputs": [
    {
     "name": "stdout",
     "output_type": "stream",
     "text": [
      "Most frequent city for reports in VA:\n",
      "0    Virginia Beach\n",
      "dtype: object\n"
     ]
    }
   ],
   "source": [
    "#Part 3\n",
    "va_ufo = ufo[ufo['State'] == 'VA']\n",
    "most_frequent_city = va_ufo['City'].mode()\n",
    "print(\"Most frequent city for reports in VA:\")\n",
    "print(most_frequent_city)"
   ]
  },
  {
   "cell_type": "code",
   "execution_count": 12,
   "metadata": {},
   "outputs": [
    {
     "name": "stdout",
     "output_type": "stream",
     "text": [
      "Index(['City', 'Colors Reported', 'Shape Reported', 'State', 'Time'], dtype='object')\n",
      "After renaming: \n",
      "Index(['City', 'Colors_Reported', 'Shape_Reported', 'State', 'Time'], dtype='object')\n"
     ]
    }
   ],
   "source": [
    "#Part 4\n",
    "print(ufo.columns)\n",
    "ufo = ufo.rename(columns=lambda x: x.replace(' ', '_'))\n",
    "print(\"After renaming: \")\n",
    "print(ufo.columns)"
   ]
  },
  {
   "cell_type": "code",
   "execution_count": 13,
   "metadata": {},
   "outputs": [
    {
     "name": "stdout",
     "output_type": "stream",
     "text": [
      "student          196\n",
      "other            105\n",
      "educator          95\n",
      "administrator     79\n",
      "engineer          67\n",
      "programmer        66\n",
      "librarian         51\n",
      "writer            45\n",
      "executive         32\n",
      "scientist         31\n",
      "artist            28\n",
      "technician        27\n",
      "marketing         26\n",
      "entertainment     18\n",
      "healthcare        16\n",
      "retired           14\n",
      "lawyer            12\n",
      "salesman          12\n",
      "none               9\n",
      "homemaker          7\n",
      "doctor             7\n",
      "occupation         1\n",
      "Name: occupation, dtype: int64\n"
     ]
    }
   ],
   "source": [
    "#Part 5\n",
    "users = pd.read_csv('https://raw.githubusercontent.com/justmarkham/DAT8/master/data/u.user', sep='|', names=['user_id', 'age', 'gender', 'occupation', 'zip_code'])\n",
    "occupation_counts = users['occupation'].value_counts()\n",
    "print(occupation_counts)"
   ]
  },
  {
   "cell_type": "code",
   "execution_count": 14,
   "metadata": {},
   "outputs": [
    {
     "name": "stdout",
     "output_type": "stream",
     "text": [
      "Mean age of each group:\n",
      "occupation\n",
      "administrator    38.746835\n",
      "artist           31.392857\n",
      "doctor           43.571429\n",
      "educator         42.010526\n",
      "engineer         36.388060\n",
      "entertainment    29.222222\n",
      "executive        38.718750\n",
      "healthcare       41.562500\n",
      "homemaker        32.571429\n",
      "lawyer           36.750000\n",
      "librarian        40.000000\n",
      "marketing        37.615385\n",
      "none             26.555556\n",
      "occupation             NaN\n",
      "other            34.523810\n",
      "programmer       33.121212\n",
      "retired          63.071429\n",
      "salesman         35.666667\n",
      "scientist        35.548387\n",
      "student          22.081633\n",
      "technician       33.148148\n",
      "writer           36.311111\n",
      "Name: age, dtype: float64\n"
     ]
    }
   ],
   "source": [
    "#Part 6\n",
    "users['age'] = pd.to_numeric(users['age'], errors='coerce')\n",
    "mean_age_by_occupation = users.groupby('occupation')['age'].mean()\n",
    "print(\"Mean age of each group:\")\n",
    "print(mean_age_by_occupation)"
   ]
  },
  {
   "cell_type": "code",
   "execution_count": 15,
   "metadata": {},
   "outputs": [
    {
     "name": "stdout",
     "output_type": "stream",
     "text": [
      "Number of rows remaining after dropping rows with missing values: 2486\n"
     ]
    }
   ],
   "source": [
    "# Part 7\n",
    "ufo_dropped = ufo.dropna()\n",
    "print(\"Number of rows remaining after dropping rows with missing values:\", len(ufo_dropped))"
   ]
  },
  {
   "cell_type": "markdown",
   "metadata": {},
   "source": [
    "<h3>Task 3</h3>"
   ]
  },
  {
   "cell_type": "code",
   "execution_count": 16,
   "metadata": {},
   "outputs": [],
   "source": [
    "import matplotlib.pyplot as plt"
   ]
  },
  {
   "cell_type": "code",
   "execution_count": 17,
   "metadata": {},
   "outputs": [
    {
     "data": {
      "image/png": "[encoded data removed]",
      "text/plain": [
       "<Figure size 432x288 with 1 Axes>"
      ]
     },
     "metadata": {
      "needs_background": "light"
     },
     "output_type": "display_data"
    }
   ],
   "source": [
    "#Part 1\n",
    "continent_alcohol = drinks.groupby('continent')['total_litres_of_pure_alcohol'].sum()\n",
    "continent_alcohol.plot(kind='bar')\n",
    "plt.title('Sum of total_litres_of_pure_alcohol by Continent')\n",
    "plt.xlabel('Continent')\n",
    "plt.ylabel('Total Pure Alcohol Consumption (litres)')\n",
    "plt.yticks([0, 200, 400, 600])\n",
    "plt.ylim(0, 600)\n",
    "plt.show()"
   ]
  },
  {
   "cell_type": "code",
   "execution_count": 18,
   "metadata": {},
   "outputs": [
    {
     "data": {
      "image/png": "[encoded data removed]",
      "text/plain": [
       "<Figure size 432x288 with 1 Axes>"
      ]
     },
     "metadata": {
      "needs_background": "light"
     },
     "output_type": "display_data"
    }
   ],
   "source": [
    "#Part 2\n",
    "plt.scatter(drinks['beer_servings'], drinks['spirit_servings'])\n",
    "plt.xlabel('Beer Servings')\n",
    "plt.ylabel('Spirit Servings')\n",
    "plt.title('Beer vs Spirit Servings')\n",
    "plt.show()"
   ]
  },
  {
   "cell_type": "code",
   "execution_count": 19,
   "metadata": {},
   "outputs": [
    {
     "data": {
      "image/png": "[encoded data removed]",
      "text/plain": [
       "<Figure size 432x288 with 1 Axes>"
      ]
     },
     "metadata": {
      "needs_background": "light"
     },
     "output_type": "display_data"
    }
   ],
   "source": [
    "#Part 3\n",
    "drinks.groupby('continent').count()['country'].plot(kind='bar')\n",
    "plt.xlabel('Continent')\n",
    "plt.ylabel('Number of Countries')\n",
    "plt.title('Count of Country by Continent')\n",
    "plt.show()"
   ]
  }
 ],
 "metadata": {
  "kernelspec": {
   "display_name": "Python 3",
   "language": "python",
   "name": "python3"
  },
  "language_info": {
   "codemirror_mode": {
    "name": "ipython",
    "version": 3
   },
   "file_extension": ".py",
   "mimetype": "text/x-python",
   "name": "python",
   "nbconvert_exporter": "python",
   "pygments_lexer": "ipython3",
   "version": "3.8.5"
  }
 },
 "nbformat": 4,
 "nbformat_minor": 4
}
